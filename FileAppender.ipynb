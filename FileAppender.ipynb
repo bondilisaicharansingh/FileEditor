{
 "cells": [
  {
   "cell_type": "code",
   "execution_count": 17,
   "metadata": {},
   "outputs": [],
   "source": [
    "# A program to edit a file, when you want to add/delete lines from somewhere in the middle of the file\n",
    "# and not from the end (which can be done using append).\n",
    "\n",
    "import fileinput \n",
    "  \n",
    "filename = \"practicetext.txt\"\n",
    "  \n",
    "with fileinput.FileInput(filename, \n",
    "                         inplace = True, backup ='.bak') as f:\n",
    "    #backup.bak creates a backup file with the original file content\n",
    "      \n",
    "    for line in f: \n",
    "        if \"Here (Line 5) -->\\n\" == line: \n",
    "            print(\"Here (Line 5) -->\\n\\tWe inserted this line of text!\", \n",
    "                  end ='\\n') \n",
    "        else: \n",
    "            print(line, end ='') "
   ]
  },
  {
   "cell_type": "code",
   "execution_count": null,
   "metadata": {},
   "outputs": [],
   "source": []
  }
 ],
 "metadata": {
  "kernelspec": {
   "display_name": "Python 3",
   "language": "python",
   "name": "python3"
  },
  "language_info": {
   "codemirror_mode": {
    "name": "ipython",
    "version": 3
   },
   "file_extension": ".py",
   "mimetype": "text/x-python",
   "name": "python",
   "nbconvert_exporter": "python",
   "pygments_lexer": "ipython3",
   "version": "3.7.6"
  }
 },
 "nbformat": 4,
 "nbformat_minor": 4
}
